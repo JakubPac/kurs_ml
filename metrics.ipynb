{
  "nbformat": 4,
  "nbformat_minor": 0,
  "metadata": {
    "colab": {
      "provenance": [],
      "authorship_tag": "ABX9TyNgv/pFELGqjj2sukZUedC8",
      "include_colab_link": true
    },
    "kernelspec": {
      "name": "python3",
      "display_name": "Python 3"
    },
    "language_info": {
      "name": "python"
    }
  },
  "cells": [
    {
      "cell_type": "markdown",
      "metadata": {
        "id": "view-in-github",
        "colab_type": "text"
      },
      "source": [
        "<a href=\"https://colab.research.google.com/github/JakubPac/kurs_ml/blob/main/metrics.ipynb\" target=\"_parent\"><img src=\"https://colab.research.google.com/assets/colab-badge.svg\" alt=\"Open In Colab\"/></a>"
      ]
    },
    {
      "cell_type": "code",
      "execution_count": 3,
      "metadata": {
        "id": "LdPl_Iha2CcZ"
      },
      "outputs": [],
      "source": [
        "import numpy as np\n",
        "import pandas as pd\n",
        "import plotly.express as px\n",
        "import plotly.graph_objects as go\n",
        "\n",
        "np.random.seed(42)"
      ]
    },
    {
      "cell_type": "code",
      "source": [
        "y_true = 100 + 20 * np.random.randn(50)\n",
        "y_true"
      ],
      "metadata": {
        "colab": {
          "base_uri": "https://localhost:8080/"
        },
        "id": "lK4Dgz3l5nhl",
        "outputId": "354f526b-862d-4943-b2e3-24491010f056"
      },
      "execution_count": 9,
      "outputs": [
        {
          "output_type": "execute_result",
          "data": {
            "text/plain": [
              "array([ 71.69258516,  91.58709354,  93.14570967,  83.95445462,\n",
              "        96.77428577, 108.08101714, 137.72371802, 103.49155626,\n",
              "       105.15100781,  98.51108168,  61.62457569,  99.46972249,\n",
              "       101.2046042 , 149.26484225,  96.1527807 , 106.03094685,\n",
              "        99.30576461,  76.62643925, 122.85645629, 115.03866065,\n",
              "       115.82063894,  81.8122509 , 128.05588622,  71.96297874,\n",
              "       111.73714188, 143.80911252,  80.1892735 ,  88.67404541,\n",
              "       101.9930273 ,  89.93048692,  68.98673138, 101.3712595 ,\n",
              "        78.75392573, 109.47184861,  81.61151532, 130.9986881 ,\n",
              "        84.33493415,  93.55876968, 116.27034435,  75.38271367,\n",
              "       104.54919869, 126.14285509,  67.85033531, 103.69267717,\n",
              "       105.19765588, 115.63645744,  75.26098578,  73.59086774,\n",
              "       110.43883131, 105.93969346])"
            ]
          },
          "metadata": {},
          "execution_count": 9
        }
      ]
    },
    {
      "cell_type": "code",
      "source": [
        "y_pred = y_true + 10 * np.random.randn(50)\n",
        "y_pred"
      ],
      "metadata": {
        "colab": {
          "base_uri": "https://localhost:8080/"
        },
        "id": "TzXpayaT5xhv",
        "outputId": "ae774999-b0df-4903-d7a3-163d7b3ec763"
      },
      "execution_count": 10,
      "outputs": [
        {
          "output_type": "execute_result",
          "data": {
            "text/plain": [
              "array([ 74.19751366,  95.05157564,  86.34546245,  86.27699159,\n",
              "        99.7050105 , 100.93750296, 156.38146314, 108.22988547,\n",
              "        93.23797284, 105.07661777,  51.87775899, 107.34056853,\n",
              "       112.79055999, 141.05801907, 105.786542  , 110.15875612,\n",
              "       107.52636621,  95.59436907, 120.40257513, 107.50129901,\n",
              "       106.92549464,  73.65414805, 127.28486912,  75.37449849,\n",
              "       114.50404987, 152.08094501,  80.31929242, 103.20938618,\n",
              "        99.34645897, 117.13217858,  75.24340486,  92.79968393,\n",
              "        68.04500074, 114.29657277,  79.37688746, 138.13869304,\n",
              "        89.0673104 ,  92.83048055, 107.80240717,  60.23424142,\n",
              "       100.08404917, 134.70684303,  69.99127275,  91.23528938,\n",
              "       106.92946514, 119.48963123,  66.42241142,  75.1281188 ,\n",
              "       111.0209185 ,  94.50999049])"
            ]
          },
          "metadata": {},
          "execution_count": 10
        }
      ]
    },
    {
      "cell_type": "code",
      "source": [
        "results = pd.DataFrame(data = {'y_true': y_true, 'y_pred' : y_pred})\n",
        "results.head()"
      ],
      "metadata": {
        "colab": {
          "base_uri": "https://localhost:8080/",
          "height": 206
        },
        "id": "uHthxEUo53l5",
        "outputId": "827583d0-49bc-4f95-cd79-d8c30f27bad0"
      },
      "execution_count": 11,
      "outputs": [
        {
          "output_type": "execute_result",
          "data": {
            "text/plain": [
              "      y_true     y_pred\n",
              "0  71.692585  74.197514\n",
              "1  91.587094  95.051576\n",
              "2  93.145710  86.345462\n",
              "3  83.954455  86.276992\n",
              "4  96.774286  99.705010"
            ],
            "text/html": [
              "\n",
              "  <div id=\"df-2189ed46-b2a0-4f2d-9ac3-ecd0e6038448\" class=\"colab-df-container\">\n",
              "    <div>\n",
              "<style scoped>\n",
              "    .dataframe tbody tr th:only-of-type {\n",
              "        vertical-align: middle;\n",
              "    }\n",
              "\n",
              "    .dataframe tbody tr th {\n",
              "        vertical-align: top;\n",
              "    }\n",
              "\n",
              "    .dataframe thead th {\n",
              "        text-align: right;\n",
              "    }\n",
              "</style>\n",
              "<table border=\"1\" class=\"dataframe\">\n",
              "  <thead>\n",
              "    <tr style=\"text-align: right;\">\n",
              "      <th></th>\n",
              "      <th>y_true</th>\n",
              "      <th>y_pred</th>\n",
              "    </tr>\n",
              "  </thead>\n",
              "  <tbody>\n",
              "    <tr>\n",
              "      <th>0</th>\n",
              "      <td>71.692585</td>\n",
              "      <td>74.197514</td>\n",
              "    </tr>\n",
              "    <tr>\n",
              "      <th>1</th>\n",
              "      <td>91.587094</td>\n",
              "      <td>95.051576</td>\n",
              "    </tr>\n",
              "    <tr>\n",
              "      <th>2</th>\n",
              "      <td>93.145710</td>\n",
              "      <td>86.345462</td>\n",
              "    </tr>\n",
              "    <tr>\n",
              "      <th>3</th>\n",
              "      <td>83.954455</td>\n",
              "      <td>86.276992</td>\n",
              "    </tr>\n",
              "    <tr>\n",
              "      <th>4</th>\n",
              "      <td>96.774286</td>\n",
              "      <td>99.705010</td>\n",
              "    </tr>\n",
              "  </tbody>\n",
              "</table>\n",
              "</div>\n",
              "    <div class=\"colab-df-buttons\">\n",
              "\n",
              "  <div class=\"colab-df-container\">\n",
              "    <button class=\"colab-df-convert\" onclick=\"convertToInteractive('df-2189ed46-b2a0-4f2d-9ac3-ecd0e6038448')\"\n",
              "            title=\"Convert this dataframe to an interactive table.\"\n",
              "            style=\"display:none;\">\n",
              "\n",
              "  <svg xmlns=\"http://www.w3.org/2000/svg\" height=\"24px\" viewBox=\"0 -960 960 960\">\n",
              "    <path d=\"M120-120v-720h720v720H120Zm60-500h600v-160H180v160Zm220 220h160v-160H400v160Zm0 220h160v-160H400v160ZM180-400h160v-160H180v160Zm440 0h160v-160H620v160ZM180-180h160v-160H180v160Zm440 0h160v-160H620v160Z\"/>\n",
              "  </svg>\n",
              "    </button>\n",
              "\n",
              "  <style>\n",
              "    .colab-df-container {\n",
              "      display:flex;\n",
              "      gap: 12px;\n",
              "    }\n",
              "\n",
              "    .colab-df-convert {\n",
              "      background-color: #E8F0FE;\n",
              "      border: none;\n",
              "      border-radius: 50%;\n",
              "      cursor: pointer;\n",
              "      display: none;\n",
              "      fill: #1967D2;\n",
              "      height: 32px;\n",
              "      padding: 0 0 0 0;\n",
              "      width: 32px;\n",
              "    }\n",
              "\n",
              "    .colab-df-convert:hover {\n",
              "      background-color: #E2EBFA;\n",
              "      box-shadow: 0px 1px 2px rgba(60, 64, 67, 0.3), 0px 1px 3px 1px rgba(60, 64, 67, 0.15);\n",
              "      fill: #174EA6;\n",
              "    }\n",
              "\n",
              "    .colab-df-buttons div {\n",
              "      margin-bottom: 4px;\n",
              "    }\n",
              "\n",
              "    [theme=dark] .colab-df-convert {\n",
              "      background-color: #3B4455;\n",
              "      fill: #D2E3FC;\n",
              "    }\n",
              "\n",
              "    [theme=dark] .colab-df-convert:hover {\n",
              "      background-color: #434B5C;\n",
              "      box-shadow: 0px 1px 3px 1px rgba(0, 0, 0, 0.15);\n",
              "      filter: drop-shadow(0px 1px 2px rgba(0, 0, 0, 0.3));\n",
              "      fill: #FFFFFF;\n",
              "    }\n",
              "  </style>\n",
              "\n",
              "    <script>\n",
              "      const buttonEl =\n",
              "        document.querySelector('#df-2189ed46-b2a0-4f2d-9ac3-ecd0e6038448 button.colab-df-convert');\n",
              "      buttonEl.style.display =\n",
              "        google.colab.kernel.accessAllowed ? 'block' : 'none';\n",
              "\n",
              "      async function convertToInteractive(key) {\n",
              "        const element = document.querySelector('#df-2189ed46-b2a0-4f2d-9ac3-ecd0e6038448');\n",
              "        const dataTable =\n",
              "          await google.colab.kernel.invokeFunction('convertToInteractive',\n",
              "                                                    [key], {});\n",
              "        if (!dataTable) return;\n",
              "\n",
              "        const docLinkHtml = 'Like what you see? Visit the ' +\n",
              "          '<a target=\"_blank\" href=https://colab.research.google.com/notebooks/data_table.ipynb>data table notebook</a>'\n",
              "          + ' to learn more about interactive tables.';\n",
              "        element.innerHTML = '';\n",
              "        dataTable['output_type'] = 'display_data';\n",
              "        await google.colab.output.renderOutput(dataTable, element);\n",
              "        const docLink = document.createElement('div');\n",
              "        docLink.innerHTML = docLinkHtml;\n",
              "        element.appendChild(docLink);\n",
              "      }\n",
              "    </script>\n",
              "  </div>\n",
              "\n",
              "\n",
              "    <div id=\"df-8e134282-8216-45cd-8355-ea188ec9dd60\">\n",
              "      <button class=\"colab-df-quickchart\" onclick=\"quickchart('df-8e134282-8216-45cd-8355-ea188ec9dd60')\"\n",
              "                title=\"Suggest charts\"\n",
              "                style=\"display:none;\">\n",
              "\n",
              "<svg xmlns=\"http://www.w3.org/2000/svg\" height=\"24px\"viewBox=\"0 0 24 24\"\n",
              "     width=\"24px\">\n",
              "    <g>\n",
              "        <path d=\"M19 3H5c-1.1 0-2 .9-2 2v14c0 1.1.9 2 2 2h14c1.1 0 2-.9 2-2V5c0-1.1-.9-2-2-2zM9 17H7v-7h2v7zm4 0h-2V7h2v10zm4 0h-2v-4h2v4z\"/>\n",
              "    </g>\n",
              "</svg>\n",
              "      </button>\n",
              "\n",
              "<style>\n",
              "  .colab-df-quickchart {\n",
              "      --bg-color: #E8F0FE;\n",
              "      --fill-color: #1967D2;\n",
              "      --hover-bg-color: #E2EBFA;\n",
              "      --hover-fill-color: #174EA6;\n",
              "      --disabled-fill-color: #AAA;\n",
              "      --disabled-bg-color: #DDD;\n",
              "  }\n",
              "\n",
              "  [theme=dark] .colab-df-quickchart {\n",
              "      --bg-color: #3B4455;\n",
              "      --fill-color: #D2E3FC;\n",
              "      --hover-bg-color: #434B5C;\n",
              "      --hover-fill-color: #FFFFFF;\n",
              "      --disabled-bg-color: #3B4455;\n",
              "      --disabled-fill-color: #666;\n",
              "  }\n",
              "\n",
              "  .colab-df-quickchart {\n",
              "    background-color: var(--bg-color);\n",
              "    border: none;\n",
              "    border-radius: 50%;\n",
              "    cursor: pointer;\n",
              "    display: none;\n",
              "    fill: var(--fill-color);\n",
              "    height: 32px;\n",
              "    padding: 0;\n",
              "    width: 32px;\n",
              "  }\n",
              "\n",
              "  .colab-df-quickchart:hover {\n",
              "    background-color: var(--hover-bg-color);\n",
              "    box-shadow: 0 1px 2px rgba(60, 64, 67, 0.3), 0 1px 3px 1px rgba(60, 64, 67, 0.15);\n",
              "    fill: var(--button-hover-fill-color);\n",
              "  }\n",
              "\n",
              "  .colab-df-quickchart-complete:disabled,\n",
              "  .colab-df-quickchart-complete:disabled:hover {\n",
              "    background-color: var(--disabled-bg-color);\n",
              "    fill: var(--disabled-fill-color);\n",
              "    box-shadow: none;\n",
              "  }\n",
              "\n",
              "  .colab-df-spinner {\n",
              "    border: 2px solid var(--fill-color);\n",
              "    border-color: transparent;\n",
              "    border-bottom-color: var(--fill-color);\n",
              "    animation:\n",
              "      spin 1s steps(1) infinite;\n",
              "  }\n",
              "\n",
              "  @keyframes spin {\n",
              "    0% {\n",
              "      border-color: transparent;\n",
              "      border-bottom-color: var(--fill-color);\n",
              "      border-left-color: var(--fill-color);\n",
              "    }\n",
              "    20% {\n",
              "      border-color: transparent;\n",
              "      border-left-color: var(--fill-color);\n",
              "      border-top-color: var(--fill-color);\n",
              "    }\n",
              "    30% {\n",
              "      border-color: transparent;\n",
              "      border-left-color: var(--fill-color);\n",
              "      border-top-color: var(--fill-color);\n",
              "      border-right-color: var(--fill-color);\n",
              "    }\n",
              "    40% {\n",
              "      border-color: transparent;\n",
              "      border-right-color: var(--fill-color);\n",
              "      border-top-color: var(--fill-color);\n",
              "    }\n",
              "    60% {\n",
              "      border-color: transparent;\n",
              "      border-right-color: var(--fill-color);\n",
              "    }\n",
              "    80% {\n",
              "      border-color: transparent;\n",
              "      border-right-color: var(--fill-color);\n",
              "      border-bottom-color: var(--fill-color);\n",
              "    }\n",
              "    90% {\n",
              "      border-color: transparent;\n",
              "      border-bottom-color: var(--fill-color);\n",
              "    }\n",
              "  }\n",
              "</style>\n",
              "\n",
              "      <script>\n",
              "        async function quickchart(key) {\n",
              "          const quickchartButtonEl =\n",
              "            document.querySelector('#' + key + ' button');\n",
              "          quickchartButtonEl.disabled = true;  // To prevent multiple clicks.\n",
              "          quickchartButtonEl.classList.add('colab-df-spinner');\n",
              "          try {\n",
              "            const charts = await google.colab.kernel.invokeFunction(\n",
              "                'suggestCharts', [key], {});\n",
              "          } catch (error) {\n",
              "            console.error('Error during call to suggestCharts:', error);\n",
              "          }\n",
              "          quickchartButtonEl.classList.remove('colab-df-spinner');\n",
              "          quickchartButtonEl.classList.add('colab-df-quickchart-complete');\n",
              "        }\n",
              "        (() => {\n",
              "          let quickchartButtonEl =\n",
              "            document.querySelector('#df-8e134282-8216-45cd-8355-ea188ec9dd60 button');\n",
              "          quickchartButtonEl.style.display =\n",
              "            google.colab.kernel.accessAllowed ? 'block' : 'none';\n",
              "        })();\n",
              "      </script>\n",
              "    </div>\n",
              "\n",
              "    </div>\n",
              "  </div>\n"
            ],
            "application/vnd.google.colaboratory.intrinsic+json": {
              "type": "dataframe",
              "variable_name": "results",
              "summary": "{\n  \"name\": \"results\",\n  \"rows\": 50,\n  \"fields\": [\n    {\n      \"column\": \"y_true\",\n      \"properties\": {\n        \"dtype\": \"number\",\n        \"std\": 20.30827172421998,\n        \"min\": 61.62457569401917,\n        \"max\": 149.26484224970574,\n        \"num_unique_values\": 50,\n        \"samples\": [\n          149.26484224970574,\n          75.3827136713209,\n          68.98673137867735\n        ],\n        \"semantic_type\": \"\",\n        \"description\": \"\"\n      }\n    },\n    {\n      \"column\": \"y_pred\",\n      \"properties\": {\n        \"dtype\": \"number\",\n        \"std\": 22.626606840942426,\n        \"min\": 51.87775899174596,\n        \"max\": 156.38146313565815,\n        \"num_unique_values\": 50,\n        \"samples\": [\n          141.05801906618862,\n          60.234241424462255,\n          75.24340485632742\n        ],\n        \"semantic_type\": \"\",\n        \"description\": \"\"\n      }\n    }\n  ]\n}"
            }
          },
          "metadata": {},
          "execution_count": 11
        }
      ]
    },
    {
      "cell_type": "code",
      "source": [
        "results['error'] = results['y_true'] - results['y_pred']\n",
        "results['error_squared'] = results['error'] ** 2\n",
        "results.head()"
      ],
      "metadata": {
        "colab": {
          "base_uri": "https://localhost:8080/",
          "height": 206
        },
        "id": "ODSmKPva5_PL",
        "outputId": "b10e4a76-f94d-43a2-f34c-66ee9c6a1640"
      },
      "execution_count": 12,
      "outputs": [
        {
          "output_type": "execute_result",
          "data": {
            "text/plain": [
              "      y_true     y_pred     error  error_squared\n",
              "0  71.692585  74.197514 -2.504929       6.274667\n",
              "1  91.587094  95.051576 -3.464482      12.002636\n",
              "2  93.145710  86.345462  6.800247      46.243362\n",
              "3  83.954455  86.276992 -2.322537       5.394178\n",
              "4  96.774286  99.705010 -2.930725       8.589147"
            ],
            "text/html": [
              "\n",
              "  <div id=\"df-1c6ada62-44fb-4e8a-ac83-84bd02b2209a\" class=\"colab-df-container\">\n",
              "    <div>\n",
              "<style scoped>\n",
              "    .dataframe tbody tr th:only-of-type {\n",
              "        vertical-align: middle;\n",
              "    }\n",
              "\n",
              "    .dataframe tbody tr th {\n",
              "        vertical-align: top;\n",
              "    }\n",
              "\n",
              "    .dataframe thead th {\n",
              "        text-align: right;\n",
              "    }\n",
              "</style>\n",
              "<table border=\"1\" class=\"dataframe\">\n",
              "  <thead>\n",
              "    <tr style=\"text-align: right;\">\n",
              "      <th></th>\n",
              "      <th>y_true</th>\n",
              "      <th>y_pred</th>\n",
              "      <th>error</th>\n",
              "      <th>error_squared</th>\n",
              "    </tr>\n",
              "  </thead>\n",
              "  <tbody>\n",
              "    <tr>\n",
              "      <th>0</th>\n",
              "      <td>71.692585</td>\n",
              "      <td>74.197514</td>\n",
              "      <td>-2.504929</td>\n",
              "      <td>6.274667</td>\n",
              "    </tr>\n",
              "    <tr>\n",
              "      <th>1</th>\n",
              "      <td>91.587094</td>\n",
              "      <td>95.051576</td>\n",
              "      <td>-3.464482</td>\n",
              "      <td>12.002636</td>\n",
              "    </tr>\n",
              "    <tr>\n",
              "      <th>2</th>\n",
              "      <td>93.145710</td>\n",
              "      <td>86.345462</td>\n",
              "      <td>6.800247</td>\n",
              "      <td>46.243362</td>\n",
              "    </tr>\n",
              "    <tr>\n",
              "      <th>3</th>\n",
              "      <td>83.954455</td>\n",
              "      <td>86.276992</td>\n",
              "      <td>-2.322537</td>\n",
              "      <td>5.394178</td>\n",
              "    </tr>\n",
              "    <tr>\n",
              "      <th>4</th>\n",
              "      <td>96.774286</td>\n",
              "      <td>99.705010</td>\n",
              "      <td>-2.930725</td>\n",
              "      <td>8.589147</td>\n",
              "    </tr>\n",
              "  </tbody>\n",
              "</table>\n",
              "</div>\n",
              "    <div class=\"colab-df-buttons\">\n",
              "\n",
              "  <div class=\"colab-df-container\">\n",
              "    <button class=\"colab-df-convert\" onclick=\"convertToInteractive('df-1c6ada62-44fb-4e8a-ac83-84bd02b2209a')\"\n",
              "            title=\"Convert this dataframe to an interactive table.\"\n",
              "            style=\"display:none;\">\n",
              "\n",
              "  <svg xmlns=\"http://www.w3.org/2000/svg\" height=\"24px\" viewBox=\"0 -960 960 960\">\n",
              "    <path d=\"M120-120v-720h720v720H120Zm60-500h600v-160H180v160Zm220 220h160v-160H400v160Zm0 220h160v-160H400v160ZM180-400h160v-160H180v160Zm440 0h160v-160H620v160ZM180-180h160v-160H180v160Zm440 0h160v-160H620v160Z\"/>\n",
              "  </svg>\n",
              "    </button>\n",
              "\n",
              "  <style>\n",
              "    .colab-df-container {\n",
              "      display:flex;\n",
              "      gap: 12px;\n",
              "    }\n",
              "\n",
              "    .colab-df-convert {\n",
              "      background-color: #E8F0FE;\n",
              "      border: none;\n",
              "      border-radius: 50%;\n",
              "      cursor: pointer;\n",
              "      display: none;\n",
              "      fill: #1967D2;\n",
              "      height: 32px;\n",
              "      padding: 0 0 0 0;\n",
              "      width: 32px;\n",
              "    }\n",
              "\n",
              "    .colab-df-convert:hover {\n",
              "      background-color: #E2EBFA;\n",
              "      box-shadow: 0px 1px 2px rgba(60, 64, 67, 0.3), 0px 1px 3px 1px rgba(60, 64, 67, 0.15);\n",
              "      fill: #174EA6;\n",
              "    }\n",
              "\n",
              "    .colab-df-buttons div {\n",
              "      margin-bottom: 4px;\n",
              "    }\n",
              "\n",
              "    [theme=dark] .colab-df-convert {\n",
              "      background-color: #3B4455;\n",
              "      fill: #D2E3FC;\n",
              "    }\n",
              "\n",
              "    [theme=dark] .colab-df-convert:hover {\n",
              "      background-color: #434B5C;\n",
              "      box-shadow: 0px 1px 3px 1px rgba(0, 0, 0, 0.15);\n",
              "      filter: drop-shadow(0px 1px 2px rgba(0, 0, 0, 0.3));\n",
              "      fill: #FFFFFF;\n",
              "    }\n",
              "  </style>\n",
              "\n",
              "    <script>\n",
              "      const buttonEl =\n",
              "        document.querySelector('#df-1c6ada62-44fb-4e8a-ac83-84bd02b2209a button.colab-df-convert');\n",
              "      buttonEl.style.display =\n",
              "        google.colab.kernel.accessAllowed ? 'block' : 'none';\n",
              "\n",
              "      async function convertToInteractive(key) {\n",
              "        const element = document.querySelector('#df-1c6ada62-44fb-4e8a-ac83-84bd02b2209a');\n",
              "        const dataTable =\n",
              "          await google.colab.kernel.invokeFunction('convertToInteractive',\n",
              "                                                    [key], {});\n",
              "        if (!dataTable) return;\n",
              "\n",
              "        const docLinkHtml = 'Like what you see? Visit the ' +\n",
              "          '<a target=\"_blank\" href=https://colab.research.google.com/notebooks/data_table.ipynb>data table notebook</a>'\n",
              "          + ' to learn more about interactive tables.';\n",
              "        element.innerHTML = '';\n",
              "        dataTable['output_type'] = 'display_data';\n",
              "        await google.colab.output.renderOutput(dataTable, element);\n",
              "        const docLink = document.createElement('div');\n",
              "        docLink.innerHTML = docLinkHtml;\n",
              "        element.appendChild(docLink);\n",
              "      }\n",
              "    </script>\n",
              "  </div>\n",
              "\n",
              "\n",
              "    <div id=\"df-b753e60e-9865-42ac-b161-116dcbb6d5dd\">\n",
              "      <button class=\"colab-df-quickchart\" onclick=\"quickchart('df-b753e60e-9865-42ac-b161-116dcbb6d5dd')\"\n",
              "                title=\"Suggest charts\"\n",
              "                style=\"display:none;\">\n",
              "\n",
              "<svg xmlns=\"http://www.w3.org/2000/svg\" height=\"24px\"viewBox=\"0 0 24 24\"\n",
              "     width=\"24px\">\n",
              "    <g>\n",
              "        <path d=\"M19 3H5c-1.1 0-2 .9-2 2v14c0 1.1.9 2 2 2h14c1.1 0 2-.9 2-2V5c0-1.1-.9-2-2-2zM9 17H7v-7h2v7zm4 0h-2V7h2v10zm4 0h-2v-4h2v4z\"/>\n",
              "    </g>\n",
              "</svg>\n",
              "      </button>\n",
              "\n",
              "<style>\n",
              "  .colab-df-quickchart {\n",
              "      --bg-color: #E8F0FE;\n",
              "      --fill-color: #1967D2;\n",
              "      --hover-bg-color: #E2EBFA;\n",
              "      --hover-fill-color: #174EA6;\n",
              "      --disabled-fill-color: #AAA;\n",
              "      --disabled-bg-color: #DDD;\n",
              "  }\n",
              "\n",
              "  [theme=dark] .colab-df-quickchart {\n",
              "      --bg-color: #3B4455;\n",
              "      --fill-color: #D2E3FC;\n",
              "      --hover-bg-color: #434B5C;\n",
              "      --hover-fill-color: #FFFFFF;\n",
              "      --disabled-bg-color: #3B4455;\n",
              "      --disabled-fill-color: #666;\n",
              "  }\n",
              "\n",
              "  .colab-df-quickchart {\n",
              "    background-color: var(--bg-color);\n",
              "    border: none;\n",
              "    border-radius: 50%;\n",
              "    cursor: pointer;\n",
              "    display: none;\n",
              "    fill: var(--fill-color);\n",
              "    height: 32px;\n",
              "    padding: 0;\n",
              "    width: 32px;\n",
              "  }\n",
              "\n",
              "  .colab-df-quickchart:hover {\n",
              "    background-color: var(--hover-bg-color);\n",
              "    box-shadow: 0 1px 2px rgba(60, 64, 67, 0.3), 0 1px 3px 1px rgba(60, 64, 67, 0.15);\n",
              "    fill: var(--button-hover-fill-color);\n",
              "  }\n",
              "\n",
              "  .colab-df-quickchart-complete:disabled,\n",
              "  .colab-df-quickchart-complete:disabled:hover {\n",
              "    background-color: var(--disabled-bg-color);\n",
              "    fill: var(--disabled-fill-color);\n",
              "    box-shadow: none;\n",
              "  }\n",
              "\n",
              "  .colab-df-spinner {\n",
              "    border: 2px solid var(--fill-color);\n",
              "    border-color: transparent;\n",
              "    border-bottom-color: var(--fill-color);\n",
              "    animation:\n",
              "      spin 1s steps(1) infinite;\n",
              "  }\n",
              "\n",
              "  @keyframes spin {\n",
              "    0% {\n",
              "      border-color: transparent;\n",
              "      border-bottom-color: var(--fill-color);\n",
              "      border-left-color: var(--fill-color);\n",
              "    }\n",
              "    20% {\n",
              "      border-color: transparent;\n",
              "      border-left-color: var(--fill-color);\n",
              "      border-top-color: var(--fill-color);\n",
              "    }\n",
              "    30% {\n",
              "      border-color: transparent;\n",
              "      border-left-color: var(--fill-color);\n",
              "      border-top-color: var(--fill-color);\n",
              "      border-right-color: var(--fill-color);\n",
              "    }\n",
              "    40% {\n",
              "      border-color: transparent;\n",
              "      border-right-color: var(--fill-color);\n",
              "      border-top-color: var(--fill-color);\n",
              "    }\n",
              "    60% {\n",
              "      border-color: transparent;\n",
              "      border-right-color: var(--fill-color);\n",
              "    }\n",
              "    80% {\n",
              "      border-color: transparent;\n",
              "      border-right-color: var(--fill-color);\n",
              "      border-bottom-color: var(--fill-color);\n",
              "    }\n",
              "    90% {\n",
              "      border-color: transparent;\n",
              "      border-bottom-color: var(--fill-color);\n",
              "    }\n",
              "  }\n",
              "</style>\n",
              "\n",
              "      <script>\n",
              "        async function quickchart(key) {\n",
              "          const quickchartButtonEl =\n",
              "            document.querySelector('#' + key + ' button');\n",
              "          quickchartButtonEl.disabled = true;  // To prevent multiple clicks.\n",
              "          quickchartButtonEl.classList.add('colab-df-spinner');\n",
              "          try {\n",
              "            const charts = await google.colab.kernel.invokeFunction(\n",
              "                'suggestCharts', [key], {});\n",
              "          } catch (error) {\n",
              "            console.error('Error during call to suggestCharts:', error);\n",
              "          }\n",
              "          quickchartButtonEl.classList.remove('colab-df-spinner');\n",
              "          quickchartButtonEl.classList.add('colab-df-quickchart-complete');\n",
              "        }\n",
              "        (() => {\n",
              "          let quickchartButtonEl =\n",
              "            document.querySelector('#df-b753e60e-9865-42ac-b161-116dcbb6d5dd button');\n",
              "          quickchartButtonEl.style.display =\n",
              "            google.colab.kernel.accessAllowed ? 'block' : 'none';\n",
              "        })();\n",
              "      </script>\n",
              "    </div>\n",
              "\n",
              "    </div>\n",
              "  </div>\n"
            ],
            "application/vnd.google.colaboratory.intrinsic+json": {
              "type": "dataframe",
              "variable_name": "results",
              "summary": "{\n  \"name\": \"results\",\n  \"rows\": 50,\n  \"fields\": [\n    {\n      \"column\": \"y_true\",\n      \"properties\": {\n        \"dtype\": \"number\",\n        \"std\": 20.30827172421998,\n        \"min\": 61.62457569401917,\n        \"max\": 149.26484224970574,\n        \"num_unique_values\": 50,\n        \"samples\": [\n          149.26484224970574,\n          75.3827136713209,\n          68.98673137867735\n        ],\n        \"semantic_type\": \"\",\n        \"description\": \"\"\n      }\n    },\n    {\n      \"column\": \"y_pred\",\n      \"properties\": {\n        \"dtype\": \"number\",\n        \"std\": 22.626606840942426,\n        \"min\": 51.87775899174596,\n        \"max\": 156.38146313565815,\n        \"num_unique_values\": 50,\n        \"samples\": [\n          141.05801906618862,\n          60.234241424462255,\n          75.24340485632742\n        ],\n        \"semantic_type\": \"\",\n        \"description\": \"\"\n      }\n    },\n    {\n      \"column\": \"error\",\n      \"properties\": {\n        \"dtype\": \"number\",\n        \"std\": 8.93713110464646,\n        \"min\": -27.201691665896192,\n        \"max\": 15.148472246858645,\n        \"num_unique_values\": 50,\n        \"samples\": [\n          8.206823183517116,\n          15.148472246858645,\n          -6.256673477650068\n        ],\n        \"semantic_type\": \"\",\n        \"description\": \"\"\n      }\n    },\n    {\n      \"column\": \"error_squared\",\n      \"properties\": {\n        \"dtype\": \"number\",\n        \"std\": 124.62317245494363,\n        \"min\": 0.016904919240478954,\n        \"max\": 739.9320294864864,\n        \"num_unique_values\": 50,\n        \"samples\": [\n          67.35194676551401,\n          229.4762114138466,\n          39.145963005929794\n        ],\n        \"semantic_type\": \"\",\n        \"description\": \"\"\n      }\n    }\n  ]\n}"
            }
          },
          "metadata": {},
          "execution_count": 12
        }
      ]
    },
    {
      "cell_type": "code",
      "source": [
        "print(f'MAE: {results[\"error\"].abs().sum() / len(results) :.4f}')"
      ],
      "metadata": {
        "colab": {
          "base_uri": "https://localhost:8080/"
        },
        "id": "jFvoib6Y6NSK",
        "outputId": "e3ed05d9-f554-415e-e7f7-b9fc7d55a8aa"
      },
      "execution_count": 16,
      "outputs": [
        {
          "output_type": "stream",
          "name": "stdout",
          "text": [
            "MAE: 7.1319\n"
          ]
        }
      ]
    },
    {
      "cell_type": "code",
      "source": [
        "print(f'MSE: {(results[\"error_squared\"]).sum() / len(results) :.4f}')"
      ],
      "metadata": {
        "colab": {
          "base_uri": "https://localhost:8080/"
        },
        "id": "92SNMGya7D2z",
        "outputId": "33825bd9-2de9-4b7c-eadd-2baaf2841696"
      },
      "execution_count": 17,
      "outputs": [
        {
          "output_type": "stream",
          "name": "stdout",
          "text": [
            "MSE: 78.9787\n"
          ]
        }
      ]
    },
    {
      "cell_type": "code",
      "source": [
        "print(f'RMSE: {np.sqrt(results[\"error_squared\"].sum() / len(results)) :.4f}')"
      ],
      "metadata": {
        "colab": {
          "base_uri": "https://localhost:8080/"
        },
        "id": "HykX31ev7OS2",
        "outputId": "d953c6dd-7a69-4bc0-b6bd-1be800bb238a"
      },
      "execution_count": 18,
      "outputs": [
        {
          "output_type": "stream",
          "name": "stdout",
          "text": [
            "RMSE: 8.8870\n"
          ]
        }
      ]
    },
    {
      "cell_type": "markdown",
      "source": [
        "Intrpretacja graficzna"
      ],
      "metadata": {
        "id": "DoeTirdb7gmp"
      }
    },
    {
      "cell_type": "code",
      "source": [
        "def plot_regression_results(y_true, y_pred):\n",
        "    results = pd.DataFrame({'y_true': y_true, 'y_pred': y_pred})\n",
        "    min = results[['y_true', 'y_pred']].min().min()\n",
        "    max = results[['y_true', 'y_pred']].max().max()\n",
        "\n",
        "    fig = go.Figure(data = [go.Scatter(x = results['y_true'], y = results['y_pred'], mode = 'markers'),\n",
        "                            go.Scatter(x = [min, max], y = [min, max])],\n",
        "                    layout = go.Layout(showlegend = False, width = 800,\n",
        "                                       xaxis_title = 'y_true',\n",
        "                                       yaxis_title = 'y_pred',\n",
        "                                       title = 'Regresja: y_true vs. y_pred'))\n",
        "    fig.show()\n",
        "\n",
        "plot_regression_results(y_true, y_pred)"
      ],
      "metadata": {
        "colab": {
          "base_uri": "https://localhost:8080/",
          "height": 542
        },
        "id": "hnebTKjl7Utj",
        "outputId": "3f96bb78-c1dc-49ef-e80d-e1041f69b1e7"
      },
      "execution_count": 21,
      "outputs": [
        {
          "output_type": "display_data",
          "data": {
            "text/html": [
              "<html>\n",
              "<head><meta charset=\"utf-8\" /></head>\n",
              "<body>\n",
              "    <div>            <script src=\"https://cdnjs.cloudflare.com/ajax/libs/mathjax/2.7.5/MathJax.js?config=TeX-AMS-MML_SVG\"></script><script type=\"text/javascript\">if (window.MathJax && window.MathJax.Hub && window.MathJax.Hub.Config) {window.MathJax.Hub.Config({SVG: {font: \"STIX-Web\"}});}</script>                <script type=\"text/javascript\">window.PlotlyConfig = {MathJaxConfig: 'local'};</script>\n",
              "        <script charset=\"utf-8\" src=\"https://cdn.plot.ly/plotly-2.35.2.min.js\"></script>                <div id=\"84c2342d-3676-482e-8cbd-904da39627ba\" class=\"plotly-graph-div\" style=\"height:525px; width:800px;\"></div>            <script type=\"text/javascript\">                                    window.PLOTLYENV=window.PLOTLYENV || {};                                    if (document.getElementById(\"84c2342d-3676-482e-8cbd-904da39627ba\")) {                    Plotly.newPlot(                        \"84c2342d-3676-482e-8cbd-904da39627ba\",                        [{\"mode\":\"markers\",\"x\":[71.69258515899172,91.58709354469282,93.14570966946461,83.95445461556761,96.77428576667981,108.08101713629077,137.7237180242106,103.49155625663678,105.15100781445528,98.51108168467665,61.62457569401917,99.46972249101566,101.20460419882053,149.26484224970574,96.15278070437755,106.03094684667225,99.30576460589513,76.62643924760935,122.85645629030041,115.03866065373549,115.82063894086093,81.81225090410521,128.05588621872198,71.96297874415438,111.73714187600541,143.80911251619958,80.18927349738624,88.67404540794456,101.99302730175282,89.93048691767602,68.98673137867735,101.37125949612054,78.7539257254779,109.47184861270364,81.61151531532394,130.9986881003508,84.33493415327526,93.55876967588648,116.27034434739339,75.3827136713209,104.54919869208258,126.14285508564856,67.85033530877544,103.69267717064608,105.19765588496847,115.6364574355462,75.26098578243835,73.59086773831447,110.43883131233795,105.93969346466372],\"y\":[74.19751366245049,95.05157563966257,86.3454624536797,86.27699158717765,99.70501049966663,100.93750295602709,156.38146313565815,108.22988546575466,93.2379728424288,105.07661777101495,51.87775899174596,107.34056852844017,112.79055998889457,141.05801906618862,105.78654199682077,110.15875611603724,107.52636620584003,95.59436907414883,120.40257513027171,107.5012990101606,106.92549464460569,73.65414805445083,127.28486912458094,75.37449849232082,114.5040498693056,152.0809450065598,80.31929241616531,103.20938617951774,99.34645896937326,117.13217858357221,75.24340485632742,92.79968393195772,68.04500074486677,114.2965727651355,79.37688746206544,138.13869304127172,89.06731039901071,92.83048054931776,107.80240716670934,60.234241424462255,100.08404917141237,134.7068430288833,69.99127275007748,91.2352893835262,106.92946514348029,119.48963123283457,66.42241142042703,75.12811879776974,111.02091849679795,94.50999048635748],\"type\":\"scatter\"},{\"x\":[51.87775899174596,156.38146313565815],\"y\":[51.87775899174596,156.38146313565815],\"type\":\"scatter\"}],                        {\"showlegend\":false,\"title\":{\"text\":\"Regresja: y_true vs. y_pred\"},\"width\":800,\"xaxis\":{\"title\":{\"text\":\"y_true\"}},\"yaxis\":{\"title\":{\"text\":\"y_pred\"}},\"template\":{\"data\":{\"histogram2dcontour\":[{\"type\":\"histogram2dcontour\",\"colorbar\":{\"outlinewidth\":0,\"ticks\":\"\"},\"colorscale\":[[0.0,\"#0d0887\"],[0.1111111111111111,\"#46039f\"],[0.2222222222222222,\"#7201a8\"],[0.3333333333333333,\"#9c179e\"],[0.4444444444444444,\"#bd3786\"],[0.5555555555555556,\"#d8576b\"],[0.6666666666666666,\"#ed7953\"],[0.7777777777777778,\"#fb9f3a\"],[0.8888888888888888,\"#fdca26\"],[1.0,\"#f0f921\"]]}],\"choropleth\":[{\"type\":\"choropleth\",\"colorbar\":{\"outlinewidth\":0,\"ticks\":\"\"}}],\"histogram2d\":[{\"type\":\"histogram2d\",\"colorbar\":{\"outlinewidth\":0,\"ticks\":\"\"},\"colorscale\":[[0.0,\"#0d0887\"],[0.1111111111111111,\"#46039f\"],[0.2222222222222222,\"#7201a8\"],[0.3333333333333333,\"#9c179e\"],[0.4444444444444444,\"#bd3786\"],[0.5555555555555556,\"#d8576b\"],[0.6666666666666666,\"#ed7953\"],[0.7777777777777778,\"#fb9f3a\"],[0.8888888888888888,\"#fdca26\"],[1.0,\"#f0f921\"]]}],\"heatmap\":[{\"type\":\"heatmap\",\"colorbar\":{\"outlinewidth\":0,\"ticks\":\"\"},\"colorscale\":[[0.0,\"#0d0887\"],[0.1111111111111111,\"#46039f\"],[0.2222222222222222,\"#7201a8\"],[0.3333333333333333,\"#9c179e\"],[0.4444444444444444,\"#bd3786\"],[0.5555555555555556,\"#d8576b\"],[0.6666666666666666,\"#ed7953\"],[0.7777777777777778,\"#fb9f3a\"],[0.8888888888888888,\"#fdca26\"],[1.0,\"#f0f921\"]]}],\"heatmapgl\":[{\"type\":\"heatmapgl\",\"colorbar\":{\"outlinewidth\":0,\"ticks\":\"\"},\"colorscale\":[[0.0,\"#0d0887\"],[0.1111111111111111,\"#46039f\"],[0.2222222222222222,\"#7201a8\"],[0.3333333333333333,\"#9c179e\"],[0.4444444444444444,\"#bd3786\"],[0.5555555555555556,\"#d8576b\"],[0.6666666666666666,\"#ed7953\"],[0.7777777777777778,\"#fb9f3a\"],[0.8888888888888888,\"#fdca26\"],[1.0,\"#f0f921\"]]}],\"contourcarpet\":[{\"type\":\"contourcarpet\",\"colorbar\":{\"outlinewidth\":0,\"ticks\":\"\"}}],\"contour\":[{\"type\":\"contour\",\"colorbar\":{\"outlinewidth\":0,\"ticks\":\"\"},\"colorscale\":[[0.0,\"#0d0887\"],[0.1111111111111111,\"#46039f\"],[0.2222222222222222,\"#7201a8\"],[0.3333333333333333,\"#9c179e\"],[0.4444444444444444,\"#bd3786\"],[0.5555555555555556,\"#d8576b\"],[0.6666666666666666,\"#ed7953\"],[0.7777777777777778,\"#fb9f3a\"],[0.8888888888888888,\"#fdca26\"],[1.0,\"#f0f921\"]]}],\"surface\":[{\"type\":\"surface\",\"colorbar\":{\"outlinewidth\":0,\"ticks\":\"\"},\"colorscale\":[[0.0,\"#0d0887\"],[0.1111111111111111,\"#46039f\"],[0.2222222222222222,\"#7201a8\"],[0.3333333333333333,\"#9c179e\"],[0.4444444444444444,\"#bd3786\"],[0.5555555555555556,\"#d8576b\"],[0.6666666666666666,\"#ed7953\"],[0.7777777777777778,\"#fb9f3a\"],[0.8888888888888888,\"#fdca26\"],[1.0,\"#f0f921\"]]}],\"mesh3d\":[{\"type\":\"mesh3d\",\"colorbar\":{\"outlinewidth\":0,\"ticks\":\"\"}}],\"scatter\":[{\"fillpattern\":{\"fillmode\":\"overlay\",\"size\":10,\"solidity\":0.2},\"type\":\"scatter\"}],\"parcoords\":[{\"type\":\"parcoords\",\"line\":{\"colorbar\":{\"outlinewidth\":0,\"ticks\":\"\"}}}],\"scatterpolargl\":[{\"type\":\"scatterpolargl\",\"marker\":{\"colorbar\":{\"outlinewidth\":0,\"ticks\":\"\"}}}],\"bar\":[{\"error_x\":{\"color\":\"#2a3f5f\"},\"error_y\":{\"color\":\"#2a3f5f\"},\"marker\":{\"line\":{\"color\":\"#E5ECF6\",\"width\":0.5},\"pattern\":{\"fillmode\":\"overlay\",\"size\":10,\"solidity\":0.2}},\"type\":\"bar\"}],\"scattergeo\":[{\"type\":\"scattergeo\",\"marker\":{\"colorbar\":{\"outlinewidth\":0,\"ticks\":\"\"}}}],\"scatterpolar\":[{\"type\":\"scatterpolar\",\"marker\":{\"colorbar\":{\"outlinewidth\":0,\"ticks\":\"\"}}}],\"histogram\":[{\"marker\":{\"pattern\":{\"fillmode\":\"overlay\",\"size\":10,\"solidity\":0.2}},\"type\":\"histogram\"}],\"scattergl\":[{\"type\":\"scattergl\",\"marker\":{\"colorbar\":{\"outlinewidth\":0,\"ticks\":\"\"}}}],\"scatter3d\":[{\"type\":\"scatter3d\",\"line\":{\"colorbar\":{\"outlinewidth\":0,\"ticks\":\"\"}},\"marker\":{\"colorbar\":{\"outlinewidth\":0,\"ticks\":\"\"}}}],\"scattermapbox\":[{\"type\":\"scattermapbox\",\"marker\":{\"colorbar\":{\"outlinewidth\":0,\"ticks\":\"\"}}}],\"scatterternary\":[{\"type\":\"scatterternary\",\"marker\":{\"colorbar\":{\"outlinewidth\":0,\"ticks\":\"\"}}}],\"scattercarpet\":[{\"type\":\"scattercarpet\",\"marker\":{\"colorbar\":{\"outlinewidth\":0,\"ticks\":\"\"}}}],\"carpet\":[{\"aaxis\":{\"endlinecolor\":\"#2a3f5f\",\"gridcolor\":\"white\",\"linecolor\":\"white\",\"minorgridcolor\":\"white\",\"startlinecolor\":\"#2a3f5f\"},\"baxis\":{\"endlinecolor\":\"#2a3f5f\",\"gridcolor\":\"white\",\"linecolor\":\"white\",\"minorgridcolor\":\"white\",\"startlinecolor\":\"#2a3f5f\"},\"type\":\"carpet\"}],\"table\":[{\"cells\":{\"fill\":{\"color\":\"#EBF0F8\"},\"line\":{\"color\":\"white\"}},\"header\":{\"fill\":{\"color\":\"#C8D4E3\"},\"line\":{\"color\":\"white\"}},\"type\":\"table\"}],\"barpolar\":[{\"marker\":{\"line\":{\"color\":\"#E5ECF6\",\"width\":0.5},\"pattern\":{\"fillmode\":\"overlay\",\"size\":10,\"solidity\":0.2}},\"type\":\"barpolar\"}],\"pie\":[{\"automargin\":true,\"type\":\"pie\"}]},\"layout\":{\"autotypenumbers\":\"strict\",\"colorway\":[\"#636efa\",\"#EF553B\",\"#00cc96\",\"#ab63fa\",\"#FFA15A\",\"#19d3f3\",\"#FF6692\",\"#B6E880\",\"#FF97FF\",\"#FECB52\"],\"font\":{\"color\":\"#2a3f5f\"},\"hovermode\":\"closest\",\"hoverlabel\":{\"align\":\"left\"},\"paper_bgcolor\":\"white\",\"plot_bgcolor\":\"#E5ECF6\",\"polar\":{\"bgcolor\":\"#E5ECF6\",\"angularaxis\":{\"gridcolor\":\"white\",\"linecolor\":\"white\",\"ticks\":\"\"},\"radialaxis\":{\"gridcolor\":\"white\",\"linecolor\":\"white\",\"ticks\":\"\"}},\"ternary\":{\"bgcolor\":\"#E5ECF6\",\"aaxis\":{\"gridcolor\":\"white\",\"linecolor\":\"white\",\"ticks\":\"\"},\"baxis\":{\"gridcolor\":\"white\",\"linecolor\":\"white\",\"ticks\":\"\"},\"caxis\":{\"gridcolor\":\"white\",\"linecolor\":\"white\",\"ticks\":\"\"}},\"coloraxis\":{\"colorbar\":{\"outlinewidth\":0,\"ticks\":\"\"}},\"colorscale\":{\"sequential\":[[0.0,\"#0d0887\"],[0.1111111111111111,\"#46039f\"],[0.2222222222222222,\"#7201a8\"],[0.3333333333333333,\"#9c179e\"],[0.4444444444444444,\"#bd3786\"],[0.5555555555555556,\"#d8576b\"],[0.6666666666666666,\"#ed7953\"],[0.7777777777777778,\"#fb9f3a\"],[0.8888888888888888,\"#fdca26\"],[1.0,\"#f0f921\"]],\"sequentialminus\":[[0.0,\"#0d0887\"],[0.1111111111111111,\"#46039f\"],[0.2222222222222222,\"#7201a8\"],[0.3333333333333333,\"#9c179e\"],[0.4444444444444444,\"#bd3786\"],[0.5555555555555556,\"#d8576b\"],[0.6666666666666666,\"#ed7953\"],[0.7777777777777778,\"#fb9f3a\"],[0.8888888888888888,\"#fdca26\"],[1.0,\"#f0f921\"]],\"diverging\":[[0,\"#8e0152\"],[0.1,\"#c51b7d\"],[0.2,\"#de77ae\"],[0.3,\"#f1b6da\"],[0.4,\"#fde0ef\"],[0.5,\"#f7f7f7\"],[0.6,\"#e6f5d0\"],[0.7,\"#b8e186\"],[0.8,\"#7fbc41\"],[0.9,\"#4d9221\"],[1,\"#276419\"]]},\"xaxis\":{\"gridcolor\":\"white\",\"linecolor\":\"white\",\"ticks\":\"\",\"title\":{\"standoff\":15},\"zerolinecolor\":\"white\",\"automargin\":true,\"zerolinewidth\":2},\"yaxis\":{\"gridcolor\":\"white\",\"linecolor\":\"white\",\"ticks\":\"\",\"title\":{\"standoff\":15},\"zerolinecolor\":\"white\",\"automargin\":true,\"zerolinewidth\":2},\"scene\":{\"xaxis\":{\"backgroundcolor\":\"#E5ECF6\",\"gridcolor\":\"white\",\"linecolor\":\"white\",\"showbackground\":true,\"ticks\":\"\",\"zerolinecolor\":\"white\",\"gridwidth\":2},\"yaxis\":{\"backgroundcolor\":\"#E5ECF6\",\"gridcolor\":\"white\",\"linecolor\":\"white\",\"showbackground\":true,\"ticks\":\"\",\"zerolinecolor\":\"white\",\"gridwidth\":2},\"zaxis\":{\"backgroundcolor\":\"#E5ECF6\",\"gridcolor\":\"white\",\"linecolor\":\"white\",\"showbackground\":true,\"ticks\":\"\",\"zerolinecolor\":\"white\",\"gridwidth\":2}},\"shapedefaults\":{\"line\":{\"color\":\"#2a3f5f\"}},\"annotationdefaults\":{\"arrowcolor\":\"#2a3f5f\",\"arrowhead\":0,\"arrowwidth\":1},\"geo\":{\"bgcolor\":\"white\",\"landcolor\":\"#E5ECF6\",\"subunitcolor\":\"white\",\"showland\":true,\"showlakes\":true,\"lakecolor\":\"white\"},\"title\":{\"x\":0.05},\"mapbox\":{\"style\":\"light\"}}}},                        {\"responsive\": true}                    ).then(function(){\n",
              "                            \n",
              "var gd = document.getElementById('84c2342d-3676-482e-8cbd-904da39627ba');\n",
              "var x = new MutationObserver(function (mutations, observer) {{\n",
              "        var display = window.getComputedStyle(gd).display;\n",
              "        if (!display || display === 'none') {{\n",
              "            console.log([gd, 'removed!']);\n",
              "            Plotly.purge(gd);\n",
              "            observer.disconnect();\n",
              "        }}\n",
              "}});\n",
              "\n",
              "// Listen for the removal of the full notebook cells\n",
              "var notebookContainer = gd.closest('#notebook-container');\n",
              "if (notebookContainer) {{\n",
              "    x.observe(notebookContainer, {childList: true});\n",
              "}}\n",
              "\n",
              "// Listen for the clearing of the current output cell\n",
              "var outputEl = gd.closest('.output');\n",
              "if (outputEl) {{\n",
              "    x.observe(outputEl, {childList: true});\n",
              "}}\n",
              "\n",
              "                        })                };                            </script>        </div>\n",
              "</body>\n",
              "</html>"
            ]
          },
          "metadata": {}
        }
      ]
    },
    {
      "cell_type": "code",
      "source": [
        "y_true = 100 + 20 * np.random.randn(1000)\n",
        "y_pred = y_true + 10 * np.random.randn(1000)\n",
        "\n",
        "results = pd.DataFrame({'y_true': y_true, 'y_pred': y_pred})\n",
        "results['error'] = results['y_true'] - results['y_pred']\n",
        "\n",
        "px.histogram(results, x = 'error', nbins = 50)"
      ],
      "metadata": {
        "colab": {
          "base_uri": "https://localhost:8080/",
          "height": 542
        },
        "id": "SCyv4T9j8eyE",
        "outputId": "2eaa487a-e2e0-48d7-f2fc-b0abbedbf0fa"
      },
      "execution_count": 33,
      "outputs": [
        {
          "output_type": "display_data",
          "data": {
            "text/html": [
              "<html>\n",
              "<head><meta charset=\"utf-8\" /></head>\n",
              "<body>\n",
              "    <div>            <script src=\"https://cdnjs.cloudflare.com/ajax/libs/mathjax/2.7.5/MathJax.js?config=TeX-AMS-MML_SVG\"></script><script type=\"text/javascript\">if (window.MathJax && window.MathJax.Hub && window.MathJax.Hub.Config) {window.MathJax.Hub.Config({SVG: {font: \"STIX-Web\"}});}</script>                <script type=\"text/javascript\">window.PlotlyConfig = {MathJaxConfig: 'local'};</script>\n",
              "        <script charset=\"utf-8\" src=\"https://cdn.plot.ly/plotly-2.35.2.min.js\"></script>                <div id=\"d6b9040d-946c-45bd-81f5-14a0b5e44ff5\" class=\"plotly-graph-div\" style=\"height:525px; width:100%;\"></div>            <script type=\"text/javascript\">                                    window.PLOTLYENV=window.PLOTLYENV || {};                                    if (document.getElementById(\"d6b9040d-946c-45bd-81f5-14a0b5e44ff5\")) {                    Plotly.newPlot(                        \"d6b9040d-946c-45bd-81f5-14a0b5e44ff5\",                        [{\"alignmentgroup\":\"True\",\"bingroup\":\"x\",\"hovertemplate\":\"error=%{x}\\u003cbr\\u003ecount=%{y}\\u003cextra\\u003e\\u003c\\u002fextra\\u003e\",\"legendgroup\":\"\",\"marker\":{\"color\":\"#636efa\",\"pattern\":{\"shape\":\"\"}},\"name\":\"\",\"nbinsx\":50,\"offsetgroup\":\"\",\"orientation\":\"v\",\"showlegend\":false,\"x\":[7.481579372985905,1.2692920007147137,-3.8818229272415152,25.88359163551449,-0.16919799166750238,7.461210125850357,-14.023626534502256,-29.427526460054366,3.592790349537154,17.222285607131937,-1.1687696991856598,2.0542932949320516,-19.713506490012904,-16.66589343375543,-8.653749705965652,5.866940812126586,-6.777665661808044,-2.6500635906830468,-2.4132320329939034,15.582298485678706,-10.617953384536463,-1.078083283112349,1.0084134754457637,6.00156495008828,7.936164996533776,-3.172585812789819,17.491628018580826,-7.894987596500428,10.541054369956854,20.586806862052924,-18.21895315926021,8.580870493455791,7.221591615216951,-11.345383310080749,-18.54430900516641,15.330015786034295,9.561680602506698,8.826788221605966,-9.34801662695655,-16.39132127929534,10.802525615780795,-14.147453379682204,7.090341115287018,-3.3612290294557283,12.714536994278177,1.219304135819982,1.1111271407271488,3.151583063152742,-3.8497098131969665,10.070308648525256,8.83723298186841,-4.378721449493554,-13.420353309757289,0.2281369404792315,-5.036707734621729,-7.580800102973399,-8.305051886334908,9.535247258366383,7.77010230204904,6.900745939435353,-19.286338008939637,-5.081929391719044,-4.633157203850175,-3.6623575318373867,13.207934036194985,-19.38190470777039,-4.791875307869603,-7.231601126549521,17.655212889158022,-7.79643852361518,3.562124501276273,13.227829747262376,9.537636658717972,12.648942084533658,12.817841951146107,-0.6054782036420931,3.867627887316516,-3.340693621613866,-16.75975871068004,1.295037136273379,22.44889293958427,2.419582115478164,-11.93394436397871,0.8593947249682969,-15.293306536917015,-4.529415931378182,18.382697343973888,-1.095822504383591,-2.970012942647287,-10.803558012736431,-18.19636571611568,-9.077255197086998,-4.404797973872178,-6.761882715783457,1.6800680644956714,14.628778368074293,-0.41496086222859674,-3.6529032745890504,12.03657625911923,-13.266216394999418,-10.054110154824315,13.717614152878696,-13.658322887898734,3.0831436920984743,7.784915651183482,-10.792776927465255,0.510544127600582,-18.991853208368696,8.528880438867503,17.316575239726546,2.8043828116614122,-7.892224990604731,9.271429855355436,13.301003827998798,-2.2892740270275453,14.636872101675166,-3.0669269961341428,3.406230512281766,-4.944664883523728,13.838288039246024,-12.981631514439044,1.8303448499368926,-7.63522667904823,-9.598754612848893,11.574449523659553,-8.822575096080755,14.25066775144326,13.701377427598928,-19.639992359884346,-11.118533687966249,-20.736641754337555,3.7021403060791016,-1.0242866407800904,-5.273547467523628,0.12195566593894114,7.461360206959043,8.960846978800475,-2.1386223282895003,10.668598416623055,10.948634923668521,-3.9357201115459333,0.9515935148561567,-9.372062705816859,4.249114100828422,5.812559499755352,-4.235533960354701,8.120248745538277,6.581277255566846,6.18454390379415,2.097021062955534,-17.724365432959033,13.76788824957157,-12.955075821174589,-7.377867562899169,-15.669788473699924,-31.366860483222737,-14.314530207878562,-9.25666947907861,13.124963516250176,11.862222615110426,-3.6019018436522146,16.98076147919565,-6.154392512912196,21.349218907610116,-11.522333855646153,3.2170031193359847,-1.2659694547018887,7.48372296420483,18.985264102225727,-12.346952791942613,-13.357013949547138,3.5148776520369722,-6.619295647340081,3.908914202104043,-2.884898442662461,-7.5913919892010995,-5.550849245738732,-13.409696134093451,-5.1888067570533565,-0.2808461703859564,7.614189678774224,4.785053803239208,-8.100513967250151,15.018265189141182,-11.058073034127972,2.8114372601453255,8.186059044078903,10.98724176781468,-6.74367785648387,0.1464135380331868,-15.887652232298194,12.630756505259214,5.781636230618631,0.9222115812741265,7.518567439699339,-0.06118664141803265,-3.1950076641551846,-4.844842391297405,-15.061671308844609,13.034724287815806,-3.3776031993531177,6.469428195881662,-4.300133800235841,-4.313321863530476,9.869193832323319,9.011523426340872,-5.116430634695746,-0.2340451074413039,2.1962184073160387,-6.579868297749741,-7.317184758621323,5.296301127017031,8.520531376424998,12.619189768376415,-0.3345412020148615,14.231602771485647,-0.9942845822903337,-12.1683679142444,3.5345977028628397,5.362042805401643,-19.97844773627145,-15.097018191876458,7.645978705554143,-1.3901318105897502,-3.2867824234808296,-2.036604227261776,-18.14673447712788,-0.8722989241941974,-2.372348756310174,-6.886622951464162,-11.899197160476675,-9.368991943041067,-5.3808478631163865,15.586998053939084,4.881377240584257,-8.194212072052707,-2.503986972793058,-8.261286338229525,-18.87166061671249,11.769632050593245,-11.37910174804584,3.3036346249363078,-9.353498192747324,0.41220743368117496,-21.270045388929958,-1.3008693626173766,6.405142243559808,-4.198746227917681,-3.239427807182693,-11.38097094110448,-4.480527986049253,-24.75064639169304,1.1140413540227172,0.9961994978047386,6.0388605005305465,-0.856683383541764,-2.3105912108295428,-2.8121052995587803,-0.6718767549399871,6.09821216727299,8.81665128082355,3.7517372483555675,-11.415376602351131,-13.567996854914796,0.7696453644043402,9.415829664674249,0.8117361031679167,-20.91665435270079,-9.989678353166198,-5.507426915325482,-9.626849170525695,-15.405666113413133,11.528662015471198,3.9203986869712253,5.28721632836816,-5.871143970709838,-1.6011089063959787,-7.563112906894077,5.068873498672232,-13.719520506791568,0.6933370814930129,-6.945455519581827,-11.954064989229394,-11.151243154949682,-3.608284084017967,-8.193469063825447,-17.416606639722872,-5.136012339746955,7.296464020615801,-5.830507309638847,0.37281218019590767,23.48001134404344,-4.619980237030916,-1.1665065001560748,-11.564177714974385,7.50093657488307,15.057096623793072,-1.6868085941050879,-3.801773876054469,-0.9383294538556868,-0.20708683685403173,10.687269542063262,1.389171369749235,3.48405829504415,-10.727087407674404,-3.7932536403061476,2.779971217451944,-17.238848764227654,2.689076762150094,-5.577867238861629,1.6692133358928203,-16.311525150280033,-0.8685977581361044,-1.1641422789067377,1.398703587727141,-1.9651192600121448,-11.99537838647909,-8.458438446846884,-0.2807618111617103,-17.013251064566532,-8.729856413425694,4.381811191973497,13.803483537339375,4.150138017965702,-4.133487785502524,-5.972003706314268,-13.591376833020192,10.94545975119,4.3915533394681034,11.776426698745126,13.387992115794454,6.278187459533186,-3.666122442940207,-7.713944348903169,9.483541066216745,8.09275919387241,17.79823175323434,-2.1435220827699624,7.321389019707382,-16.630313782118463,-4.0980879964959485,1.7144574345677484,6.4111242754445215,14.946702201942287,13.678717769454309,6.221409545721343,6.98902882024305,9.991718428459947,-3.770947274423449,-5.142655924148599,4.5863239730172864,-19.35152268265317,17.467293665160923,-0.5816389897226344,2.1858020408792527,5.5070088196725635,6.976628460130598,0.06959882912357784,2.255278273217286,3.9187652711255936,12.98719634989375,16.181118178104995,2.8851647519556565,4.020961044965304,1.970368602768275,1.0862179788950925,5.2250234188281794,2.124074238182061,8.535283081034947,-15.239458091632827,7.997401481499679,3.7098070946533994,7.237887891138811,7.405815402049029,-0.24641566637946255,1.0223420988301086,4.594603903752102,2.834759915543117,7.198135509932698,-4.017256377261603,-20.551927425907138,8.748412772332188,-3.9396322373460464,-0.4494895702071062,-6.686297581325903,-6.967929604960716,-2.0541269721866087,0.39820576115099016,4.3445019964844676,7.649603531086356,0.968456609517844,12.845888314176804,5.938559901174685,-11.068536244725692,-0.9851222107969022,-8.9266441893555,-14.696438866584245,1.7702945591481694,-2.073258341936409,3.0184589415275553,8.126057604756056,9.529682593324054,-8.431503725964916,-2.0862728048564776,-18.466030720810522,-9.720520129238906,7.312129895363682,-8.403421802267715,3.0507553910225482,-12.16859709129001,4.863338772430197,10.524259602426724,7.957550770614091,7.4466490241491385,8.402517646186645,5.7260827560510705,-8.566918703252384,-17.960442082661842,13.301895155535036,-12.635130428331493,4.777037159744282,-3.4788253120223374,16.54146030573297,-5.240350173448562,20.053123968160627,-3.139350723101657,-2.572560470293368,-1.9100763429546674,7.349101506329291,-5.495266744296444,-3.9108150941671767,2.0995278364111982,-6.71850307175194,0.9560414656550478,-5.287771589087626,1.2587932739408956,-2.1670199110954087,-5.747229410752624,3.9791257361803503,12.338365862541949,-2.76079005548155,-11.893913786129303,-2.99150972957446,-3.1814231469637235,0.42176106496640386,-7.391186527732003,1.8593541613793718,4.538987811268619,-11.052982528748657,5.305383182926818,-8.89470946451749,-11.059354619577093,-5.668169320620606,12.492355195726319,-0.2715490922249728,2.01999997058617,4.959992553353132,-1.427515873464273,-7.692063474975484,4.585526601311983,1.7138267427367424,2.4105893383198733,-11.638710455443118,2.5710061781058613,12.344056577617451,15.734348389905136,-3.6272956656597017,7.606817398859022,-6.687245052724776,13.312199885071315,5.389121666106078,13.30568849520148,-4.346107155489236,-6.488475406246508,-3.386251576366007,10.85936320403843,7.457637441106655,-2.3431398861155373,16.877414081243643,2.4113494438790326,-15.16905353335882,1.7995554918037442,14.885446390319515,6.074092476761351,6.306923256775761,-21.40308779836562,-16.656790805138968,-7.309354341015776,3.430759307413979,-12.006296609797232,11.334596390504586,-10.765753152442585,-9.279735374200442,1.5134573464928138,-11.391863133507712,4.472211294638498,12.650855980982335,-9.779650129999212,0.8524292913945857,-6.017806032986684,-18.20886591559406,7.222540723962965,1.4337950483997588,-15.696345045777136,-6.687317308552835,6.99782744204596,9.550177035394782,5.280806401033459,7.38414704802878,-2.373481194895305,-0.7843450719759986,-2.7923775427535134,8.408128015597825,0.7083390752525531,20.556997739562163,-1.450063173613671,-11.754406449558644,14.2474590934618,-4.834282306474606,6.110143517605636,-8.02501153693369,-1.5864745121227912,-4.047041126604412,-0.6482389875544072,-13.283318063843524,-3.474104776951023,7.054237140024512,-0.9871505232100333,3.688810429660492,-1.623999065195889,4.197697123668121,6.768107355463144,-1.9927221274844555,-0.5578962861655299,-10.63955845045848,4.149558791328133,19.808538474953068,3.638707984633129,16.264307589165767,-4.156719740965755,16.73897928348788,9.883710624141017,3.6233445827486293,-15.439506047611445,10.728901157149181,-0.12404983146586801,-5.799765769572588,-14.840605532206979,-7.777947517214102,-10.93906951632465,-8.643070588515414,12.091229713961397,-3.596921043170468,-8.48660952172223,9.565002896740197,5.797598767240231,8.031922951270566,-7.7262298596803305,0.6928112032913134,3.208458943350969,12.816699166529872,0.6739425319379251,5.675883549847484,-2.4333956526416216,11.429671986454508,-1.7790625950620012,4.389507704988205,12.492969257351461,13.272840378781467,11.770203880226944,2.063990574405409,-1.2099543436350046,-2.698236323771809,-3.07552917728448,7.585232609792001,-10.584029080951751,4.422255260081528,-4.501497600597318,1.6415543349381636,-3.7562123170304176,2.1432806614491255,-3.936348765745663,0.07388869880323057,-8.138405706506887,8.186850432111981,17.698913358905784,9.733574194340974,-10.689184152380335,1.5455881988773967,-0.9206229554656176,10.536366140463869,-0.6555372515027784,10.228126440726967,8.757812750527549,4.024836828238804,-4.4509725784214424,-5.518475806425101,-5.790448979378368,15.880841150443743,0.06664500390260741,1.967818333827367,15.321824160814558,-0.15983766722197856,2.504272174367614,-5.115256721178866,-0.8124707623980214,5.493205302832536,-9.257624504569776,22.21233500775125,0.6426512842961074,17.63250931991935,9.121932712061195,-5.248137030093503,12.74197480440803,14.237178187039348,-23.819449834156245,13.592890514201642,-16.50520903087974,1.7220216457926085,5.248291214389752,-5.667863905882058,-13.365940755444996,11.460679421083285,5.1024978972853035,-8.468697346842525,-2.8799431242699995,-11.01917830641382,-5.151119544317794,-18.082240091491485,-1.7858859883365028,-2.2181114833096203,-3.217213720157986,1.424888517265586,-8.480871588009236,-2.3704122386302657,-7.881800091451439,-9.444998536241599,-4.284546815603278,-5.017163242341979,10.103297875965339,5.503535878198214,-8.433834529907315,-14.23631181818513,19.404302255083607,5.678631472514155,-0.23620602414649738,8.792744620806786,8.225196441816834,-4.749198737938045,-15.813759691714338,20.318235563221407,1.7047614898169599,-4.632803417903887,-7.802139722002423,-3.191273430690387,-17.614025499361155,-0.2890659332579446,-13.119927903920967,6.463676703459697,-0.5798294658884942,12.127150757988503,-9.008644405489946,1.2044286264117687,-3.5782106251989774,3.1336863128507417,-5.864285016590159,-3.974339738557518,9.946514299712064,9.367674325830109,0.277687303413515,-6.59573957406657,-18.628955531138473,-3.0299085666572836,-10.075314024885401,16.128509347641682,-20.12955849433982,-6.0568621112919345,0.4960451115878044,1.6469604745792594,11.071997978589977,8.212867957201695,-19.104356321334137,9.890044382860111,10.08267757866345,7.022204860755792,11.981807529612723,-0.15306574845510568,-10.889105126652382,6.104923262720334,13.733242797608213,-2.9186131301465394,0.557743376798129,-10.02724550081625,4.545082993022703,2.6015677962667496,1.495303645432685,-0.8900411055348201,3.9256167735758964,5.5464410804600845,18.50377684881842,5.6538720912011655,-7.152232680817519,-8.50245519368886,4.711130235913004,-12.994859981817626,0.28704071700354916,13.37846371815948,16.523840564542553,-12.182579226197277,3.7300372526107424,12.140645230725795,22.592761714355348,3.9571611087514356,-4.047508589963613,6.976911440462047,10.532451601338721,5.493757686067269,-12.431920191448555,13.929816176751899,6.4170103042251725,-12.107577396175913,-4.941762894237542,-1.7912781377895612,6.484461354162491,-0.3050481450042781,5.378290684533013,8.59386131070751,10.8005747530174,-7.84095596372498,0.6040613221613569,-3.145137438026964,-1.5167318580140403,-4.40918827808359,2.547187899858912,4.816574510545749,8.15280329391122,14.139691334071138,11.22033170622916,3.654177211002221,16.03039484435478,13.822859041360303,-10.42139892635177,-2.2417948485379213,4.5183672820352,-22.715744589045613,16.482497187130292,-9.756112764618223,1.1146608277941539,-7.8504702291281205,-1.0895371727080772,18.72245062245257,-0.9546046755882855,-3.355558546395983,21.91985298524414,-19.440482938018988,-3.112075941727724,-6.719877401364954,11.655293895763123,-6.906175221456181,-10.895044595630551,-2.535682281378456,0.09371558520764722,8.93588124898416,2.16206917783326,5.120295142592795,-5.719956373926848,8.498759251174022,-5.6465072150355695,8.38985562729657,2.6235255416001877,-6.160443970128171,7.037967199860432,-6.505364889776018,-5.529941576713682,2.7095067337694303,-11.617832013557901,-0.7778434197711448,-11.022765265853494,-17.93464924877179,2.4130102170131096,-6.44954984027396,6.375679253228753,10.328144095081981,1.9545965738642792,13.626002797494635,9.376077796473098,-5.9143259932106815,5.136490154488385,-7.105140871218609,-2.9941193801748653,-18.511540620191155,-5.243372855760455,-11.14218070279314,-4.018846631275466,-3.1139350107807218,-11.647330421133148,-6.687974658652649,-2.1006361295742835,-2.056546659297183,-5.382293118304148,6.713735194598854,7.137994661386983,-14.254059323729322,-18.64413663859999,9.288824584101661,6.68994432439704,-11.425228195041456,-5.335199931423958,-6.764281053209217,-8.966012948530576,2.4073216174407577,-3.299699249901863,-2.5219215069809167,8.584916002454605,-3.150909432157036,-12.377106961496679,3.3413323884336137,-1.5256924874093443,-2.0670891601085657,2.8466455043527077,-6.769012376943579,6.800656312549876,-13.32645518695935,-6.262055616322456,9.367686006728945,-16.98009684886253,-1.6810146126159538,7.229475172350519,-11.04554524991191,-4.946715194480248,17.719597042340382,5.256603172438531,-2.790973372215433,21.595666776426583,-0.8507008538739456,-1.5797937270525892,11.83491882375823,-2.706448862599629,-0.07463839125033189,11.912941058850151,-9.195605468628244,-8.378537947678055,2.897370868523609,1.9858132339182362,-7.262639375953455,2.006631431118066,19.309082005201546,-4.869365573999275,8.132593207385085,3.8984305441759375,-14.578705679514755,1.3397847400879783,-0.017349358738727005,-5.096672754635975,-5.053339438740323,9.191977673777828,0.6029851553437453,-0.3615252792582737,-2.7202689662882733,-2.892219409166188,-25.874412287774575,11.758597705872447,-9.800916201979561,-11.833758058330588,-4.9278397392352815,6.503153948730741,-16.64668030267626,21.919828647401985,6.832666972178259,-11.716821972228118,3.70111603422518,-15.964645248001858,15.118047446784004,11.12101893948008,5.316381701269748,-4.173992775365292,2.220201503800226,4.903992525624204,-14.203964310985242,-15.134449753891502,4.143797657075552,17.09767807329662,21.574838291873796,-2.3929011478035562,-6.559556222187979,-0.6299778557854552,0.709081070807585,8.045426146940827,-6.5497979391383865,-16.781853788989096,22.16877677335556,0.7750118878771559,9.703483494136009,14.904659940538522,11.299758707844163,-3.7967285568440445,-4.049621975911663,-14.602877611748,-0.08781547145461843,17.582216298695784,2.381695423759723,13.863790722157837,12.067958864220046,-5.805590584064959,-1.941809055944205,-5.875655954353306,3.574928472717275,-7.905295634253562,4.134028982901114,-11.166828327422479,-3.4463893947154247,2.0699687048461612,-2.1209304417609616,0.17860700974917165,-15.961065153129226,-2.4543762257878967,0.01612672394507797,2.3849085705079887,-8.431842192450105,-7.079133390535048,2.738416303126286,11.55641514622809,9.019681383783535,1.8416253954219641,-13.489275061190824,2.501766292469135,5.94123609965564,17.607193132486458,-15.135414356022963,-5.690281459814599,-7.960099700058578,-9.616880519293744,1.647302287589632,-0.8459063374753555,-14.88601941951994,-1.7958088931913636,-5.87525290063995,-8.70550717200512,-6.429313324226442,1.2816917026649435,0.33883842813919784,-7.776404379759427,-7.760028599347265,-11.682325990194627,-5.510969833098386,-5.966056135920553,4.462333667844476,5.811495110719022,-7.806306743514938,5.7418506801637506,0.20701003116862182,-13.790232409712914,-12.205702923450886,-3.0178883079718446,2.961395798337108,1.2337891034350434,-8.676601410556145,0.3649927744616548,5.582823930102634,-12.157747564079742,-1.816001391292815,5.772558209917463,-4.789401889326314,-9.71218413192507,10.07673064787761,2.0045391335293488,2.466833675884118,-4.52287165783477,-6.320083228598577,5.514739112794857,14.927511759060252,-10.317987545994015,11.199452705772131,-2.7118420504387757,1.3198089873068284,-1.6244390520407563,-16.512339717068585,-30.38281613621828,16.334374113986087,-9.83906155332923,1.5624777267764642,-10.478545137125522,-9.572630761791629,-14.097448071981631,-2.849649151626977,8.895764849550233,-9.276494887096206,-1.1799757614406445,2.3384321513413227,4.762238807049613,-10.0633556910513,-16.03369492007377,11.953525586996335,-6.219522424789304,3.723871854226445,14.672723981921138,-1.4770582076300798,8.331377801895599,15.77753227800197,7.817404722245342],\"xaxis\":\"x\",\"yaxis\":\"y\",\"type\":\"histogram\"}],                        {\"template\":{\"data\":{\"histogram2dcontour\":[{\"type\":\"histogram2dcontour\",\"colorbar\":{\"outlinewidth\":0,\"ticks\":\"\"},\"colorscale\":[[0.0,\"#0d0887\"],[0.1111111111111111,\"#46039f\"],[0.2222222222222222,\"#7201a8\"],[0.3333333333333333,\"#9c179e\"],[0.4444444444444444,\"#bd3786\"],[0.5555555555555556,\"#d8576b\"],[0.6666666666666666,\"#ed7953\"],[0.7777777777777778,\"#fb9f3a\"],[0.8888888888888888,\"#fdca26\"],[1.0,\"#f0f921\"]]}],\"choropleth\":[{\"type\":\"choropleth\",\"colorbar\":{\"outlinewidth\":0,\"ticks\":\"\"}}],\"histogram2d\":[{\"type\":\"histogram2d\",\"colorbar\":{\"outlinewidth\":0,\"ticks\":\"\"},\"colorscale\":[[0.0,\"#0d0887\"],[0.1111111111111111,\"#46039f\"],[0.2222222222222222,\"#7201a8\"],[0.3333333333333333,\"#9c179e\"],[0.4444444444444444,\"#bd3786\"],[0.5555555555555556,\"#d8576b\"],[0.6666666666666666,\"#ed7953\"],[0.7777777777777778,\"#fb9f3a\"],[0.8888888888888888,\"#fdca26\"],[1.0,\"#f0f921\"]]}],\"heatmap\":[{\"type\":\"heatmap\",\"colorbar\":{\"outlinewidth\":0,\"ticks\":\"\"},\"colorscale\":[[0.0,\"#0d0887\"],[0.1111111111111111,\"#46039f\"],[0.2222222222222222,\"#7201a8\"],[0.3333333333333333,\"#9c179e\"],[0.4444444444444444,\"#bd3786\"],[0.5555555555555556,\"#d8576b\"],[0.6666666666666666,\"#ed7953\"],[0.7777777777777778,\"#fb9f3a\"],[0.8888888888888888,\"#fdca26\"],[1.0,\"#f0f921\"]]}],\"heatmapgl\":[{\"type\":\"heatmapgl\",\"colorbar\":{\"outlinewidth\":0,\"ticks\":\"\"},\"colorscale\":[[0.0,\"#0d0887\"],[0.1111111111111111,\"#46039f\"],[0.2222222222222222,\"#7201a8\"],[0.3333333333333333,\"#9c179e\"],[0.4444444444444444,\"#bd3786\"],[0.5555555555555556,\"#d8576b\"],[0.6666666666666666,\"#ed7953\"],[0.7777777777777778,\"#fb9f3a\"],[0.8888888888888888,\"#fdca26\"],[1.0,\"#f0f921\"]]}],\"contourcarpet\":[{\"type\":\"contourcarpet\",\"colorbar\":{\"outlinewidth\":0,\"ticks\":\"\"}}],\"contour\":[{\"type\":\"contour\",\"colorbar\":{\"outlinewidth\":0,\"ticks\":\"\"},\"colorscale\":[[0.0,\"#0d0887\"],[0.1111111111111111,\"#46039f\"],[0.2222222222222222,\"#7201a8\"],[0.3333333333333333,\"#9c179e\"],[0.4444444444444444,\"#bd3786\"],[0.5555555555555556,\"#d8576b\"],[0.6666666666666666,\"#ed7953\"],[0.7777777777777778,\"#fb9f3a\"],[0.8888888888888888,\"#fdca26\"],[1.0,\"#f0f921\"]]}],\"surface\":[{\"type\":\"surface\",\"colorbar\":{\"outlinewidth\":0,\"ticks\":\"\"},\"colorscale\":[[0.0,\"#0d0887\"],[0.1111111111111111,\"#46039f\"],[0.2222222222222222,\"#7201a8\"],[0.3333333333333333,\"#9c179e\"],[0.4444444444444444,\"#bd3786\"],[0.5555555555555556,\"#d8576b\"],[0.6666666666666666,\"#ed7953\"],[0.7777777777777778,\"#fb9f3a\"],[0.8888888888888888,\"#fdca26\"],[1.0,\"#f0f921\"]]}],\"mesh3d\":[{\"type\":\"mesh3d\",\"colorbar\":{\"outlinewidth\":0,\"ticks\":\"\"}}],\"scatter\":[{\"fillpattern\":{\"fillmode\":\"overlay\",\"size\":10,\"solidity\":0.2},\"type\":\"scatter\"}],\"parcoords\":[{\"type\":\"parcoords\",\"line\":{\"colorbar\":{\"outlinewidth\":0,\"ticks\":\"\"}}}],\"scatterpolargl\":[{\"type\":\"scatterpolargl\",\"marker\":{\"colorbar\":{\"outlinewidth\":0,\"ticks\":\"\"}}}],\"bar\":[{\"error_x\":{\"color\":\"#2a3f5f\"},\"error_y\":{\"color\":\"#2a3f5f\"},\"marker\":{\"line\":{\"color\":\"#E5ECF6\",\"width\":0.5},\"pattern\":{\"fillmode\":\"overlay\",\"size\":10,\"solidity\":0.2}},\"type\":\"bar\"}],\"scattergeo\":[{\"type\":\"scattergeo\",\"marker\":{\"colorbar\":{\"outlinewidth\":0,\"ticks\":\"\"}}}],\"scatterpolar\":[{\"type\":\"scatterpolar\",\"marker\":{\"colorbar\":{\"outlinewidth\":0,\"ticks\":\"\"}}}],\"histogram\":[{\"marker\":{\"pattern\":{\"fillmode\":\"overlay\",\"size\":10,\"solidity\":0.2}},\"type\":\"histogram\"}],\"scattergl\":[{\"type\":\"scattergl\",\"marker\":{\"colorbar\":{\"outlinewidth\":0,\"ticks\":\"\"}}}],\"scatter3d\":[{\"type\":\"scatter3d\",\"line\":{\"colorbar\":{\"outlinewidth\":0,\"ticks\":\"\"}},\"marker\":{\"colorbar\":{\"outlinewidth\":0,\"ticks\":\"\"}}}],\"scattermapbox\":[{\"type\":\"scattermapbox\",\"marker\":{\"colorbar\":{\"outlinewidth\":0,\"ticks\":\"\"}}}],\"scatterternary\":[{\"type\":\"scatterternary\",\"marker\":{\"colorbar\":{\"outlinewidth\":0,\"ticks\":\"\"}}}],\"scattercarpet\":[{\"type\":\"scattercarpet\",\"marker\":{\"colorbar\":{\"outlinewidth\":0,\"ticks\":\"\"}}}],\"carpet\":[{\"aaxis\":{\"endlinecolor\":\"#2a3f5f\",\"gridcolor\":\"white\",\"linecolor\":\"white\",\"minorgridcolor\":\"white\",\"startlinecolor\":\"#2a3f5f\"},\"baxis\":{\"endlinecolor\":\"#2a3f5f\",\"gridcolor\":\"white\",\"linecolor\":\"white\",\"minorgridcolor\":\"white\",\"startlinecolor\":\"#2a3f5f\"},\"type\":\"carpet\"}],\"table\":[{\"cells\":{\"fill\":{\"color\":\"#EBF0F8\"},\"line\":{\"color\":\"white\"}},\"header\":{\"fill\":{\"color\":\"#C8D4E3\"},\"line\":{\"color\":\"white\"}},\"type\":\"table\"}],\"barpolar\":[{\"marker\":{\"line\":{\"color\":\"#E5ECF6\",\"width\":0.5},\"pattern\":{\"fillmode\":\"overlay\",\"size\":10,\"solidity\":0.2}},\"type\":\"barpolar\"}],\"pie\":[{\"automargin\":true,\"type\":\"pie\"}]},\"layout\":{\"autotypenumbers\":\"strict\",\"colorway\":[\"#636efa\",\"#EF553B\",\"#00cc96\",\"#ab63fa\",\"#FFA15A\",\"#19d3f3\",\"#FF6692\",\"#B6E880\",\"#FF97FF\",\"#FECB52\"],\"font\":{\"color\":\"#2a3f5f\"},\"hovermode\":\"closest\",\"hoverlabel\":{\"align\":\"left\"},\"paper_bgcolor\":\"white\",\"plot_bgcolor\":\"#E5ECF6\",\"polar\":{\"bgcolor\":\"#E5ECF6\",\"angularaxis\":{\"gridcolor\":\"white\",\"linecolor\":\"white\",\"ticks\":\"\"},\"radialaxis\":{\"gridcolor\":\"white\",\"linecolor\":\"white\",\"ticks\":\"\"}},\"ternary\":{\"bgcolor\":\"#E5ECF6\",\"aaxis\":{\"gridcolor\":\"white\",\"linecolor\":\"white\",\"ticks\":\"\"},\"baxis\":{\"gridcolor\":\"white\",\"linecolor\":\"white\",\"ticks\":\"\"},\"caxis\":{\"gridcolor\":\"white\",\"linecolor\":\"white\",\"ticks\":\"\"}},\"coloraxis\":{\"colorbar\":{\"outlinewidth\":0,\"ticks\":\"\"}},\"colorscale\":{\"sequential\":[[0.0,\"#0d0887\"],[0.1111111111111111,\"#46039f\"],[0.2222222222222222,\"#7201a8\"],[0.3333333333333333,\"#9c179e\"],[0.4444444444444444,\"#bd3786\"],[0.5555555555555556,\"#d8576b\"],[0.6666666666666666,\"#ed7953\"],[0.7777777777777778,\"#fb9f3a\"],[0.8888888888888888,\"#fdca26\"],[1.0,\"#f0f921\"]],\"sequentialminus\":[[0.0,\"#0d0887\"],[0.1111111111111111,\"#46039f\"],[0.2222222222222222,\"#7201a8\"],[0.3333333333333333,\"#9c179e\"],[0.4444444444444444,\"#bd3786\"],[0.5555555555555556,\"#d8576b\"],[0.6666666666666666,\"#ed7953\"],[0.7777777777777778,\"#fb9f3a\"],[0.8888888888888888,\"#fdca26\"],[1.0,\"#f0f921\"]],\"diverging\":[[0,\"#8e0152\"],[0.1,\"#c51b7d\"],[0.2,\"#de77ae\"],[0.3,\"#f1b6da\"],[0.4,\"#fde0ef\"],[0.5,\"#f7f7f7\"],[0.6,\"#e6f5d0\"],[0.7,\"#b8e186\"],[0.8,\"#7fbc41\"],[0.9,\"#4d9221\"],[1,\"#276419\"]]},\"xaxis\":{\"gridcolor\":\"white\",\"linecolor\":\"white\",\"ticks\":\"\",\"title\":{\"standoff\":15},\"zerolinecolor\":\"white\",\"automargin\":true,\"zerolinewidth\":2},\"yaxis\":{\"gridcolor\":\"white\",\"linecolor\":\"white\",\"ticks\":\"\",\"title\":{\"standoff\":15},\"zerolinecolor\":\"white\",\"automargin\":true,\"zerolinewidth\":2},\"scene\":{\"xaxis\":{\"backgroundcolor\":\"#E5ECF6\",\"gridcolor\":\"white\",\"linecolor\":\"white\",\"showbackground\":true,\"ticks\":\"\",\"zerolinecolor\":\"white\",\"gridwidth\":2},\"yaxis\":{\"backgroundcolor\":\"#E5ECF6\",\"gridcolor\":\"white\",\"linecolor\":\"white\",\"showbackground\":true,\"ticks\":\"\",\"zerolinecolor\":\"white\",\"gridwidth\":2},\"zaxis\":{\"backgroundcolor\":\"#E5ECF6\",\"gridcolor\":\"white\",\"linecolor\":\"white\",\"showbackground\":true,\"ticks\":\"\",\"zerolinecolor\":\"white\",\"gridwidth\":2}},\"shapedefaults\":{\"line\":{\"color\":\"#2a3f5f\"}},\"annotationdefaults\":{\"arrowcolor\":\"#2a3f5f\",\"arrowhead\":0,\"arrowwidth\":1},\"geo\":{\"bgcolor\":\"white\",\"landcolor\":\"#E5ECF6\",\"subunitcolor\":\"white\",\"showland\":true,\"showlakes\":true,\"lakecolor\":\"white\"},\"title\":{\"x\":0.05},\"mapbox\":{\"style\":\"light\"}}},\"xaxis\":{\"anchor\":\"y\",\"domain\":[0.0,1.0],\"title\":{\"text\":\"error\"}},\"yaxis\":{\"anchor\":\"x\",\"domain\":[0.0,1.0],\"title\":{\"text\":\"count\"}},\"legend\":{\"tracegroupgap\":0},\"margin\":{\"t\":60},\"barmode\":\"relative\"},                        {\"responsive\": true}                    ).then(function(){\n",
              "                            \n",
              "var gd = document.getElementById('d6b9040d-946c-45bd-81f5-14a0b5e44ff5');\n",
              "var x = new MutationObserver(function (mutations, observer) {{\n",
              "        var display = window.getComputedStyle(gd).display;\n",
              "        if (!display || display === 'none') {{\n",
              "            console.log([gd, 'removed!']);\n",
              "            Plotly.purge(gd);\n",
              "            observer.disconnect();\n",
              "        }}\n",
              "}});\n",
              "\n",
              "// Listen for the removal of the full notebook cells\n",
              "var notebookContainer = gd.closest('#notebook-container');\n",
              "if (notebookContainer) {{\n",
              "    x.observe(notebookContainer, {childList: true});\n",
              "}}\n",
              "\n",
              "// Listen for the clearing of the current output cell\n",
              "var outputEl = gd.closest('.output');\n",
              "if (outputEl) {{\n",
              "    x.observe(outputEl, {childList: true});\n",
              "}}\n",
              "\n",
              "                        })                };                            </script>        </div>\n",
              "</body>\n",
              "</html>"
            ]
          },
          "metadata": {}
        }
      ]
    },
    {
      "cell_type": "markdown",
      "source": [
        "Mean absolute error"
      ],
      "metadata": {
        "id": "d4VX0SG49xMb"
      }
    },
    {
      "cell_type": "code",
      "source": [
        "from sklearn.metrics import mean_absolute_error as mae\n",
        "\n",
        "mae(y_true, y_pred)"
      ],
      "metadata": {
        "colab": {
          "base_uri": "https://localhost:8080/"
        },
        "id": "hTurRsdL9OHr",
        "outputId": "977f7115-6e62-4b3f-aaaf-110d5bd6ebdc"
      },
      "execution_count": 34,
      "outputs": [
        {
          "output_type": "execute_result",
          "data": {
            "text/plain": [
              "7.678310857397717"
            ]
          },
          "metadata": {},
          "execution_count": 34
        }
      ]
    },
    {
      "cell_type": "code",
      "source": [
        "from sklearn.metrics import mean_squared_error as mse\n",
        "\n",
        "mse(y_true, y_pred)"
      ],
      "metadata": {
        "colab": {
          "base_uri": "https://localhost:8080/"
        },
        "id": "lsW8IhLb942i",
        "outputId": "2773fc03-3506-4155-d016-890c4105eae0"
      },
      "execution_count": 35,
      "outputs": [
        {
          "output_type": "execute_result",
          "data": {
            "text/plain": [
              "90.65572774310903"
            ]
          },
          "metadata": {},
          "execution_count": 35
        }
      ]
    },
    {
      "cell_type": "code",
      "source": [
        "from sklearn.metrics import root_mean_squared_error as rmse\n",
        "\n",
        "rmse(y_true, y_pred)"
      ],
      "metadata": {
        "colab": {
          "base_uri": "https://localhost:8080/"
        },
        "id": "nySazxm098Ok",
        "outputId": "ca0206c8-595c-4cd7-92ec-37c5190cf3a0"
      },
      "execution_count": 36,
      "outputs": [
        {
          "output_type": "execute_result",
          "data": {
            "text/plain": [
              "9.521330145683901"
            ]
          },
          "metadata": {},
          "execution_count": 36
        }
      ]
    },
    {
      "cell_type": "code",
      "source": [
        "from sklearn.metrics import max_error as me\n",
        "\n",
        "me(y_true, y_pred)"
      ],
      "metadata": {
        "colab": {
          "base_uri": "https://localhost:8080/"
        },
        "id": "X3BOP9ie-ABU",
        "outputId": "56e47701-1ce9-4fcd-8f7e-79da0229fbd7"
      },
      "execution_count": 37,
      "outputs": [
        {
          "output_type": "execute_result",
          "data": {
            "text/plain": [
              "np.float64(31.366860483222737)"
            ]
          },
          "metadata": {},
          "execution_count": 37
        }
      ]
    },
    {
      "cell_type": "code",
      "source": [
        "from sklearn.metrics import r2_score as r2\n",
        "\n",
        "r2(y_true, y_pred)"
      ],
      "metadata": {
        "colab": {
          "base_uri": "https://localhost:8080/"
        },
        "id": "0e1XM_NR-ITy",
        "outputId": "e3df4f05-dfab-4fa5-fb2c-2981dd86ab60"
      },
      "execution_count": 38,
      "outputs": [
        {
          "output_type": "execute_result",
          "data": {
            "text/plain": [
              "0.7812269617855452"
            ]
          },
          "metadata": {},
          "execution_count": 38
        }
      ]
    },
    {
      "cell_type": "code",
      "source": [],
      "metadata": {
        "id": "h3QlswoQ-M4Y"
      },
      "execution_count": null,
      "outputs": []
    }
  ]
}